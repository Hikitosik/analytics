{
  "nbformat": 4,
  "nbformat_minor": 0,
  "metadata": {
    "colab": {
      "provenance": [],
      "collapsed_sections": []
    },
    "kernelspec": {
      "name": "python3",
      "display_name": "Python 3"
    },
    "language_info": {
      "name": "python"
    }
  },
  "cells": [
    {
      "cell_type": "markdown",
      "source": [
        "#Постановка\n",
        "Посчитать количество точек притяжения категории «Продуктовые магазины» в Прикубанском районе Краснодара. Данные по этим точкам, которые по умолчанию есть в OSM, не подойдут - их надо обогатить из источника более валидных данных.\n",
        "\n",
        "Результат - шейп-файл с отмеченными точками на карте, который можно открыть в qgis + короткое описание что делали."
      ],
      "metadata": {
        "id": "cws87_QzaPQQ"
      }
    },
    {
      "cell_type": "markdown",
      "source": [
        "#Решение\n",
        "Для начала необходимо выбрать ресурс, с которого можно забрать данные. Я выделил три:\n",
        "\n",
        "\n",
        "\n",
        "1.   Яндекс.Карты\n",
        "2.   2ГИС\n",
        "3.   OSM\n",
        "\n",
        "\n",
        "Минусом Яндекс.Карт является ограниченное кол-во запросов через API. Для 2ГИС необходимо получать верификацию для использования API (запрос отправил, но так и не получил ответа). Поэтому оптимальным решением является отбор координат и адресов точек из OSM, а потом их обогащение через сторонние сервисы (например, Яндекс.Карты)\n",
        "\n",
        "Сам ресурс OSM был мне не знаком, поэтому пришлось прочитать документацию для составления правильного запроса. Саму границу области поиска. Я выделил три способа:\n",
        "\n",
        "\n",
        "\n",
        "1.   Задать прямоугольник по двум координатам. Но такой способ будет очень не точным с большой погрешностью\n",
        "2.   С помощью (osmconver) можно создать полигон обрезки из ломанных линий. Это будет выглядеть как набор пар координат. Данный метод является не оптимальным по времени для данной задачи, но самым точным\n",
        "3.   Задать \"Прикубанский округ\" в переменную по уже существующей разметке. В данной разметке есть погрешности, но она намного лучше приближает область округа, чем прямоугольник\n",
        "\n",
        "Делается это следующей строкой: \n",
        "\n",
        "```\n",
        "area[name=\"Прикубанский округ\"][admin_level=9]\n",
        "```\n",
        "Далее необходимо выяснить, как отобрать продуктовые магазины. Это тоже можно сделать с помощью комбинации тегов. Более детально можно поситать про теги здесь:\n",
        "\n",
        "[Библиотека тегов](https://taginfo.openstreetmap.org/)\n",
        "\n",
        "Для данной задачи были выбраны следующие теги (одного описательного я не нашел среди класса **amenity**):\n",
        "\n",
        "**shop**=convenience — небольшой местный магазин, в котором продаются различные товары повседневного спроса, такие как продукты питания и средства гигиены\n",
        "\n",
        "**shop**=supermarket — аналогичные магазины которые продают целый ряд товаров, но которые являются большими. Предлагаемое разграничение: достаточно большие для использования тележек. Пожалуйста, обратите внимание, что многие небольшие магазины называют себя супермаркетами. Пожалуйста, выберите тег в зависимости от размера магазина, а не от его названия.\n",
        "\n",
        "**shop**=general — очень похожий тип магазина, но, как правило, с еще более широким кругом товаров, включая инструменты, строительные материалы. Продает всё, потому что это единственный магазин в округе (например магазины в деревнях).\n",
        "\n",
        "**shop**=greengrocer — очень похожий магазин (и аналогичных размеров), но сосредоточен на фруктах и овощах.\n",
        "\n",
        "**shop**=kiosk — очень маленький магазин (киоск, ларёк) продающий сигареты, газеты, сладости, легкие закуски и прочую мелочь\n",
        "\n",
        "Теперь посчитаем кол-во таких магазинов:"
      ],
      "metadata": {
        "id": "RoaguKTtak0c"
      }
    },
    {
      "cell_type": "code",
      "source": [
        "pip install overpy"
      ],
      "metadata": {
        "colab": {
          "base_uri": "https://localhost:8080/"
        },
        "id": "JCaQ-KvwGIQt",
        "outputId": "df0020c3-8f99-49f7-d0cb-3016445d1a1c"
      },
      "execution_count": 26,
      "outputs": [
        {
          "output_type": "stream",
          "name": "stdout",
          "text": [
            "Looking in indexes: https://pypi.org/simple, https://us-python.pkg.dev/colab-wheels/public/simple/\n",
            "Collecting overpy\n",
            "  Downloading overpy-0.6.tar.gz (47 kB)\n",
            "\u001b[K     |████████████████████████████████| 47 kB 2.7 MB/s \n",
            "\u001b[?25hBuilding wheels for collected packages: overpy\n",
            "  Building wheel for overpy (setup.py) ... \u001b[?25l\u001b[?25hdone\n",
            "  Created wheel for overpy: filename=overpy-0.6-py3-none-any.whl size=14106 sha256=bd4be6f443a4d19291b9977f78ded3b35511b05a6c09daf6bdaa72e15bab26b1\n",
            "  Stored in directory: /root/.cache/pip/wheels/1a/d3/0e/090c6914956cc37881fc914101d2a952c0da8e66fc86dc6a31\n",
            "Successfully built overpy\n",
            "Installing collected packages: overpy\n",
            "Successfully installed overpy-0.6\n"
          ]
        }
      ]
    },
    {
      "cell_type": "code",
      "source": [
        "pip install dadata"
      ],
      "metadata": {
        "colab": {
          "base_uri": "https://localhost:8080/"
        },
        "id": "6dlmSy7zOugh",
        "outputId": "e556949e-fc68-4b46-a032-2c28ee48abba"
      },
      "execution_count": 27,
      "outputs": [
        {
          "output_type": "stream",
          "name": "stdout",
          "text": [
            "Looking in indexes: https://pypi.org/simple, https://us-python.pkg.dev/colab-wheels/public/simple/\n",
            "Collecting dadata\n",
            "  Downloading dadata-21.10.1-py3-none-any.whl (10 kB)\n",
            "Collecting httpx\n",
            "  Downloading httpx-0.23.0-py3-none-any.whl (84 kB)\n",
            "\u001b[K     |████████████████████████████████| 84 kB 2.8 MB/s \n",
            "\u001b[?25hCollecting rfc3986[idna2008]<2,>=1.3\n",
            "  Downloading rfc3986-1.5.0-py2.py3-none-any.whl (31 kB)\n",
            "Requirement already satisfied: certifi in /usr/local/lib/python3.7/dist-packages (from httpx->dadata) (2022.9.24)\n",
            "Collecting sniffio\n",
            "  Downloading sniffio-1.3.0-py3-none-any.whl (10 kB)\n",
            "Collecting httpcore<0.16.0,>=0.15.0\n",
            "  Downloading httpcore-0.15.0-py3-none-any.whl (68 kB)\n",
            "\u001b[K     |████████████████████████████████| 68 kB 5.7 MB/s \n",
            "\u001b[?25hCollecting anyio==3.*\n",
            "  Downloading anyio-3.6.2-py3-none-any.whl (80 kB)\n",
            "\u001b[K     |████████████████████████████████| 80 kB 9.7 MB/s \n",
            "\u001b[?25hCollecting h11<0.13,>=0.11\n",
            "  Downloading h11-0.12.0-py3-none-any.whl (54 kB)\n",
            "\u001b[K     |████████████████████████████████| 54 kB 4.0 MB/s \n",
            "\u001b[?25hRequirement already satisfied: typing-extensions in /usr/local/lib/python3.7/dist-packages (from anyio==3.*->httpcore<0.16.0,>=0.15.0->httpx->dadata) (4.1.1)\n",
            "Requirement already satisfied: idna>=2.8 in /usr/local/lib/python3.7/dist-packages (from anyio==3.*->httpcore<0.16.0,>=0.15.0->httpx->dadata) (2.10)\n",
            "Installing collected packages: sniffio, rfc3986, h11, anyio, httpcore, httpx, dadata\n",
            "Successfully installed anyio-3.6.2 dadata-21.10.1 h11-0.12.0 httpcore-0.15.0 httpx-0.23.0 rfc3986-1.5.0 sniffio-1.3.0\n"
          ]
        }
      ]
    },
    {
      "cell_type": "code",
      "source": [
        "pip install fiona"
      ],
      "metadata": {
        "colab": {
          "base_uri": "https://localhost:8080/"
        },
        "id": "CsraIFu8GxN5",
        "outputId": "2b10bded-07d6-4539-a845-31b1b2a07f31"
      },
      "execution_count": 190,
      "outputs": [
        {
          "output_type": "stream",
          "name": "stdout",
          "text": [
            "Looking in indexes: https://pypi.org/simple, https://us-python.pkg.dev/colab-wheels/public/simple/\n",
            "Collecting fiona\n",
            "  Downloading Fiona-1.8.22-cp37-cp37m-manylinux2014_x86_64.whl (16.7 MB)\n",
            "\u001b[K     |████████████████████████████████| 16.7 MB 5.1 MB/s \n",
            "\u001b[?25hRequirement already satisfied: attrs>=17 in /usr/local/lib/python3.7/dist-packages (from fiona) (22.1.0)\n",
            "Collecting click-plugins>=1.0\n",
            "  Downloading click_plugins-1.1.1-py2.py3-none-any.whl (7.5 kB)\n",
            "Collecting munch\n",
            "  Downloading munch-2.5.0-py2.py3-none-any.whl (10 kB)\n",
            "Requirement already satisfied: certifi in /usr/local/lib/python3.7/dist-packages (from fiona) (2022.9.24)\n",
            "Collecting cligj>=0.5\n",
            "  Downloading cligj-0.7.2-py3-none-any.whl (7.1 kB)\n",
            "Requirement already satisfied: click>=4.0 in /usr/local/lib/python3.7/dist-packages (from fiona) (7.1.2)\n",
            "Requirement already satisfied: six>=1.7 in /usr/local/lib/python3.7/dist-packages (from fiona) (1.15.0)\n",
            "Requirement already satisfied: setuptools in /usr/local/lib/python3.7/dist-packages (from fiona) (57.4.0)\n",
            "Installing collected packages: munch, cligj, click-plugins, fiona\n",
            "Successfully installed click-plugins-1.1.1 cligj-0.7.2 fiona-1.8.22 munch-2.5.0\n"
          ]
        }
      ]
    },
    {
      "cell_type": "code",
      "source": [
        "pip install geopandas"
      ],
      "metadata": {
        "colab": {
          "base_uri": "https://localhost:8080/"
        },
        "id": "oe_rNQ7AHb3g",
        "outputId": "81378695-f1cf-4962-c672-0c2c34d8919b"
      },
      "execution_count": 194,
      "outputs": [
        {
          "output_type": "stream",
          "name": "stdout",
          "text": [
            "Looking in indexes: https://pypi.org/simple, https://us-python.pkg.dev/colab-wheels/public/simple/\n",
            "Collecting geopandas\n",
            "  Downloading geopandas-0.10.2-py2.py3-none-any.whl (1.0 MB)\n",
            "\u001b[K     |████████████████████████████████| 1.0 MB 5.2 MB/s \n",
            "\u001b[?25hRequirement already satisfied: pandas>=0.25.0 in /usr/local/lib/python3.7/dist-packages (from geopandas) (1.3.5)\n",
            "Requirement already satisfied: fiona>=1.8 in /usr/local/lib/python3.7/dist-packages (from geopandas) (1.8.22)\n",
            "Collecting pyproj>=2.2.0\n",
            "  Downloading pyproj-3.2.1-cp37-cp37m-manylinux2010_x86_64.whl (6.3 MB)\n",
            "\u001b[K     |████████████████████████████████| 6.3 MB 47.4 MB/s \n",
            "\u001b[?25hRequirement already satisfied: shapely>=1.6 in /usr/local/lib/python3.7/dist-packages (from geopandas) (1.8.5.post1)\n",
            "Requirement already satisfied: click-plugins>=1.0 in /usr/local/lib/python3.7/dist-packages (from fiona>=1.8->geopandas) (1.1.1)\n",
            "Requirement already satisfied: attrs>=17 in /usr/local/lib/python3.7/dist-packages (from fiona>=1.8->geopandas) (22.1.0)\n",
            "Requirement already satisfied: munch in /usr/local/lib/python3.7/dist-packages (from fiona>=1.8->geopandas) (2.5.0)\n",
            "Requirement already satisfied: cligj>=0.5 in /usr/local/lib/python3.7/dist-packages (from fiona>=1.8->geopandas) (0.7.2)\n",
            "Requirement already satisfied: certifi in /usr/local/lib/python3.7/dist-packages (from fiona>=1.8->geopandas) (2022.9.24)\n",
            "Requirement already satisfied: six>=1.7 in /usr/local/lib/python3.7/dist-packages (from fiona>=1.8->geopandas) (1.15.0)\n",
            "Requirement already satisfied: setuptools in /usr/local/lib/python3.7/dist-packages (from fiona>=1.8->geopandas) (57.4.0)\n",
            "Requirement already satisfied: click>=4.0 in /usr/local/lib/python3.7/dist-packages (from fiona>=1.8->geopandas) (7.1.2)\n",
            "Requirement already satisfied: numpy>=1.17.3 in /usr/local/lib/python3.7/dist-packages (from pandas>=0.25.0->geopandas) (1.21.6)\n",
            "Requirement already satisfied: pytz>=2017.3 in /usr/local/lib/python3.7/dist-packages (from pandas>=0.25.0->geopandas) (2022.6)\n",
            "Requirement already satisfied: python-dateutil>=2.7.3 in /usr/local/lib/python3.7/dist-packages (from pandas>=0.25.0->geopandas) (2.8.2)\n",
            "Installing collected packages: pyproj, geopandas\n",
            "Successfully installed geopandas-0.10.2 pyproj-3.2.1\n"
          ]
        }
      ]
    },
    {
      "cell_type": "code",
      "source": [
        "import overpy\n",
        "import requests\n",
        "from pprint import pprint\n",
        "import pandas as pd\n",
        "import numpy as np\n",
        "from time import sleep\n",
        "import fiona\n",
        "import geopandas as gpd\n",
        "from shapely.geometry import Point\n",
        "from google.colab import files"
      ],
      "metadata": {
        "id": "fxZKJaykGPTk"
      },
      "execution_count": 202,
      "outputs": []
    },
    {
      "cell_type": "code",
      "source": [
        "api = overpy.Overpass()\n",
        "Data_convenience = api.query(\"\"\"\n",
        "area[name=\"Прикубанский округ\"][admin_level=9];\n",
        "(\n",
        "  node[\"shop\"=\"convenience\"](area);\n",
        "  way[\"shop\"=\"convenience\"](area);\n",
        "  relation[\"shop\"=\"convenience\"](area);\n",
        ");\n",
        "out body;\n",
        ">;\n",
        "out skel qt;\n",
        "\"\"\")\n",
        "\n",
        "Data_supermarket = api.query(\"\"\"\n",
        "area[name=\"Прикубанский округ\"][admin_level=9];\n",
        "(\n",
        "  node[\"shop\"=\"supermarket\"](area);\n",
        "  way[\"shop\"=\"supermarket\"](area);\n",
        "  relation[\"shop\"=\"supermarket\"](area);\n",
        ");\n",
        "out body;\n",
        ">;\n",
        "out skel qt;\n",
        "\"\"\")\n",
        "\n",
        "Data_general = api.query(\"\"\"\n",
        "area[name=\"Прикубанский округ\"][admin_level=9];\n",
        "(\n",
        "  node[\"shop\"=\"general\"](area);\n",
        "  way[\"shop\"=\"general\"](area);\n",
        "  relation[\"shop\"=\"general\"](area);\n",
        ");\n",
        "out body;\n",
        ">;\n",
        "out skel qt;\n",
        "\"\"\")\n",
        "\n",
        "Data_greengrocer = api.query(\"\"\"\n",
        "area[name=\"Прикубанский округ\"][admin_level=9];\n",
        "(\n",
        "  node[\"shop\"=\"greengrocer\"](area);\n",
        "  way[\"shop\"=\"greengrocer\"](area);\n",
        "  relation[\"shop\"=\"greengrocer\"](area);\n",
        ");\n",
        "out body;\n",
        ">;\n",
        "out skel qt;\n",
        "\"\"\")\n",
        "\n",
        "Data_kiosk = api.query(\"\"\"\n",
        "area[name=\"Прикубанский округ\"][admin_level=9];\n",
        "(\n",
        "  node[\"kiosk\"=\"kiosk\"](area);\n",
        "  way[\"kiosk\"=\"kiosk\"](area);\n",
        "  relation[\"shop\"=\"kiosk\"](area);\n",
        ");\n",
        "out body;\n",
        ">;\n",
        "out skel qt;\n",
        "\"\"\")\n"
      ],
      "metadata": {
        "id": "wE8dqf2zGKSG"
      },
      "execution_count": 30,
      "outputs": []
    },
    {
      "cell_type": "code",
      "source": [
        "\n",
        "coords  = []\n",
        "coords += [(float(node.lon), float(node.lat)) \n",
        "           for node in Data_convenience.nodes]\n",
        "coords += [(float(way.center_lon), float(way.center_lat)) \n",
        "           for way in Data_convenience.ways]\n",
        "coords += [(float(rel.center_lon), float(rel.center_lat))\n",
        "           for rel in Data_convenience.relations]\n",
        "\n",
        "coords += [(float(node.lon), float(node.lat)) \n",
        "           for node in Data_supermarket.nodes]\n",
        "coords += [(float(way.center_lon), float(way.center_lat)) \n",
        "           for way in Data_supermarket.ways]\n",
        "coords += [(float(rel.center_lon), float(rel.center_lat))\n",
        "           for rel in Data_supermarket.relations]\n",
        "\n",
        "coords += [(float(node.lon), float(node.lat)) \n",
        "           for node in Data_general.nodes]\n",
        "coords += [(float(way.center_lon), float(way.center_lat)) \n",
        "           for way in Data_general.ways]\n",
        "coords += [(float(rel.center_lon), float(rel.center_lat))\n",
        "           for rel in Data_general.relations]\n",
        "\n",
        "coords += [(float(node.lon), float(node.lat)) \n",
        "           for node in Data_greengrocer.nodes]\n",
        "coords += [(float(way.center_lon), float(way.center_lat)) \n",
        "           for way in Data_greengrocer.ways]\n",
        "coords += [(float(rel.center_lon), float(rel.center_lat))\n",
        "           for rel in Data_greengrocer.relations]\n",
        "\n",
        "coords += [(float(node.lon), float(node.lat)) \n",
        "           for node in Data_kiosk.nodes]\n",
        "coords += [(float(way.center_lon), float(way.center_lat)) \n",
        "           for way in Data_kiosk.ways]\n",
        "coords += [(float(rel.center_lon), float(rel.center_lat))\n",
        "           for rel in Data_kiosk.relations]                                            \n",
        "#координаты записаны наоборот\n",
        "\n",
        "print(len(Data_convenience.nodes) + len(Data_supermarket.nodes) + len(Data_general.nodes) + len(Data_greengrocer.nodes) + len(Data_kiosk.nodes)) #получаем общее количество узлов"
      ],
      "metadata": {
        "colab": {
          "base_uri": "https://localhost:8080/"
        },
        "id": "EhSbcBrqNwWm",
        "outputId": "5a8ffee0-4844-4ef0-8ef8-cbef84f38cae"
      },
      "execution_count": 31,
      "outputs": [
        {
          "output_type": "stream",
          "name": "stdout",
          "text": [
            "428\n"
          ]
        }
      ]
    },
    {
      "cell_type": "markdown",
      "source": [
        "Получили **428** объектов\n",
        "\n",
        "Далее предлагаю восстановить корректные координаты точек по их адресу через Яндекс.Карты. Для начала получим адрес по координатам из OSM: "
      ],
      "metadata": {
        "id": "8-8f0422IJPV"
      }
    },
    {
      "cell_type": "code",
      "source": [
        "df = pd.DataFrame(coords)\n",
        "df.columns = ['lon', 'lat']\n",
        "\n",
        "for index,row in df.iterrows():\n",
        "  lon = df['lon'].iloc[index]\n",
        "  lat = df['lat'].iloc[index]\n",
        "  url=f'https://nominatim.openstreetmap.org/search.php?q={lat}+{lon}+&format=jsonv2'\n",
        "  point  = requests.get(url).json()\n",
        "  point = point[0]\n",
        "  df['adress'].iloc[index] = point['display_name']\n",
        "\n",
        "df"
      ],
      "metadata": {
        "colab": {
          "base_uri": "https://localhost:8080/",
          "height": 759
        },
        "id": "fXMrwhc-S3NF",
        "outputId": "43ee5329-71eb-42a8-ab63-2b51f88cf1ff"
      },
      "execution_count": 80,
      "outputs": [
        {
          "output_type": "stream",
          "name": "stderr",
          "text": [
            "/usr/local/lib/python3.7/dist-packages/pandas/core/indexing.py:1732: SettingWithCopyWarning: \n",
            "A value is trying to be set on a copy of a slice from a DataFrame\n",
            "\n",
            "See the caveats in the documentation: https://pandas.pydata.org/pandas-docs/stable/user_guide/indexing.html#returning-a-view-versus-a-copy\n",
            "  self._setitem_single_block(indexer, value, name)\n"
          ]
        },
        {
          "output_type": "execute_result",
          "data": {
            "text/plain": [
              "           lon        lat                                             adress\n",
              "0    38.998903  45.149798  Агрокомплекс Выселковский, 1/1, Ейское шоссе, ...\n",
              "1    38.979628  45.073394  Магнат, проезд Репина, Прикубанский округ, Кра...\n",
              "2    38.980844  45.073823  22, проезд Репина, Прикубанский округ, Краснод...\n",
              "3    38.982050  45.073874  20, проезд Репина, Прикубанский округ, Краснод...\n",
              "4    38.984145  45.108671  Домашняя кухня, улица им. Соколова М.Е., микро...\n",
              "..         ...        ...                                                ...\n",
              "423  39.011233  45.088930  Добро кубани, 25/1, улица Дунаевского, Микрора...\n",
              "424  39.001620  45.082000  Графиня вишенька, Московская улица, Прикубанск...\n",
              "425  39.022008  45.055825  Овощи Фрукты, 77/1, улица 40 лет Победы, Прику...\n",
              "426  39.008842  45.087073  22, улица имени Рахманинова С.В., Микрорайон и...\n",
              "427  39.002932  45.081659  1/5, Ангарская улица, Прикубанский округ, Крас...\n",
              "\n",
              "[428 rows x 3 columns]"
            ],
            "text/html": [
              "\n",
              "  <div id=\"df-c53e8b5b-db38-479c-b5df-7c763ccbda93\">\n",
              "    <div class=\"colab-df-container\">\n",
              "      <div>\n",
              "<style scoped>\n",
              "    .dataframe tbody tr th:only-of-type {\n",
              "        vertical-align: middle;\n",
              "    }\n",
              "\n",
              "    .dataframe tbody tr th {\n",
              "        vertical-align: top;\n",
              "    }\n",
              "\n",
              "    .dataframe thead th {\n",
              "        text-align: right;\n",
              "    }\n",
              "</style>\n",
              "<table border=\"1\" class=\"dataframe\">\n",
              "  <thead>\n",
              "    <tr style=\"text-align: right;\">\n",
              "      <th></th>\n",
              "      <th>lon</th>\n",
              "      <th>lat</th>\n",
              "      <th>adress</th>\n",
              "    </tr>\n",
              "  </thead>\n",
              "  <tbody>\n",
              "    <tr>\n",
              "      <th>0</th>\n",
              "      <td>38.998903</td>\n",
              "      <td>45.149798</td>\n",
              "      <td>Агрокомплекс Выселковский, 1/1, Ейское шоссе, ...</td>\n",
              "    </tr>\n",
              "    <tr>\n",
              "      <th>1</th>\n",
              "      <td>38.979628</td>\n",
              "      <td>45.073394</td>\n",
              "      <td>Магнат, проезд Репина, Прикубанский округ, Кра...</td>\n",
              "    </tr>\n",
              "    <tr>\n",
              "      <th>2</th>\n",
              "      <td>38.980844</td>\n",
              "      <td>45.073823</td>\n",
              "      <td>22, проезд Репина, Прикубанский округ, Краснод...</td>\n",
              "    </tr>\n",
              "    <tr>\n",
              "      <th>3</th>\n",
              "      <td>38.982050</td>\n",
              "      <td>45.073874</td>\n",
              "      <td>20, проезд Репина, Прикубанский округ, Краснод...</td>\n",
              "    </tr>\n",
              "    <tr>\n",
              "      <th>4</th>\n",
              "      <td>38.984145</td>\n",
              "      <td>45.108671</td>\n",
              "      <td>Домашняя кухня, улица им. Соколова М.Е., микро...</td>\n",
              "    </tr>\n",
              "    <tr>\n",
              "      <th>...</th>\n",
              "      <td>...</td>\n",
              "      <td>...</td>\n",
              "      <td>...</td>\n",
              "    </tr>\n",
              "    <tr>\n",
              "      <th>423</th>\n",
              "      <td>39.011233</td>\n",
              "      <td>45.088930</td>\n",
              "      <td>Добро кубани, 25/1, улица Дунаевского, Микрора...</td>\n",
              "    </tr>\n",
              "    <tr>\n",
              "      <th>424</th>\n",
              "      <td>39.001620</td>\n",
              "      <td>45.082000</td>\n",
              "      <td>Графиня вишенька, Московская улица, Прикубанск...</td>\n",
              "    </tr>\n",
              "    <tr>\n",
              "      <th>425</th>\n",
              "      <td>39.022008</td>\n",
              "      <td>45.055825</td>\n",
              "      <td>Овощи Фрукты, 77/1, улица 40 лет Победы, Прику...</td>\n",
              "    </tr>\n",
              "    <tr>\n",
              "      <th>426</th>\n",
              "      <td>39.008842</td>\n",
              "      <td>45.087073</td>\n",
              "      <td>22, улица имени Рахманинова С.В., Микрорайон и...</td>\n",
              "    </tr>\n",
              "    <tr>\n",
              "      <th>427</th>\n",
              "      <td>39.002932</td>\n",
              "      <td>45.081659</td>\n",
              "      <td>1/5, Ангарская улица, Прикубанский округ, Крас...</td>\n",
              "    </tr>\n",
              "  </tbody>\n",
              "</table>\n",
              "<p>428 rows × 3 columns</p>\n",
              "</div>\n",
              "      <button class=\"colab-df-convert\" onclick=\"convertToInteractive('df-c53e8b5b-db38-479c-b5df-7c763ccbda93')\"\n",
              "              title=\"Convert this dataframe to an interactive table.\"\n",
              "              style=\"display:none;\">\n",
              "        \n",
              "  <svg xmlns=\"http://www.w3.org/2000/svg\" height=\"24px\"viewBox=\"0 0 24 24\"\n",
              "       width=\"24px\">\n",
              "    <path d=\"M0 0h24v24H0V0z\" fill=\"none\"/>\n",
              "    <path d=\"M18.56 5.44l.94 2.06.94-2.06 2.06-.94-2.06-.94-.94-2.06-.94 2.06-2.06.94zm-11 1L8.5 8.5l.94-2.06 2.06-.94-2.06-.94L8.5 2.5l-.94 2.06-2.06.94zm10 10l.94 2.06.94-2.06 2.06-.94-2.06-.94-.94-2.06-.94 2.06-2.06.94z\"/><path d=\"M17.41 7.96l-1.37-1.37c-.4-.4-.92-.59-1.43-.59-.52 0-1.04.2-1.43.59L10.3 9.45l-7.72 7.72c-.78.78-.78 2.05 0 2.83L4 21.41c.39.39.9.59 1.41.59.51 0 1.02-.2 1.41-.59l7.78-7.78 2.81-2.81c.8-.78.8-2.07 0-2.86zM5.41 20L4 18.59l7.72-7.72 1.47 1.35L5.41 20z\"/>\n",
              "  </svg>\n",
              "      </button>\n",
              "      \n",
              "  <style>\n",
              "    .colab-df-container {\n",
              "      display:flex;\n",
              "      flex-wrap:wrap;\n",
              "      gap: 12px;\n",
              "    }\n",
              "\n",
              "    .colab-df-convert {\n",
              "      background-color: #E8F0FE;\n",
              "      border: none;\n",
              "      border-radius: 50%;\n",
              "      cursor: pointer;\n",
              "      display: none;\n",
              "      fill: #1967D2;\n",
              "      height: 32px;\n",
              "      padding: 0 0 0 0;\n",
              "      width: 32px;\n",
              "    }\n",
              "\n",
              "    .colab-df-convert:hover {\n",
              "      background-color: #E2EBFA;\n",
              "      box-shadow: 0px 1px 2px rgba(60, 64, 67, 0.3), 0px 1px 3px 1px rgba(60, 64, 67, 0.15);\n",
              "      fill: #174EA6;\n",
              "    }\n",
              "\n",
              "    [theme=dark] .colab-df-convert {\n",
              "      background-color: #3B4455;\n",
              "      fill: #D2E3FC;\n",
              "    }\n",
              "\n",
              "    [theme=dark] .colab-df-convert:hover {\n",
              "      background-color: #434B5C;\n",
              "      box-shadow: 0px 1px 3px 1px rgba(0, 0, 0, 0.15);\n",
              "      filter: drop-shadow(0px 1px 2px rgba(0, 0, 0, 0.3));\n",
              "      fill: #FFFFFF;\n",
              "    }\n",
              "  </style>\n",
              "\n",
              "      <script>\n",
              "        const buttonEl =\n",
              "          document.querySelector('#df-c53e8b5b-db38-479c-b5df-7c763ccbda93 button.colab-df-convert');\n",
              "        buttonEl.style.display =\n",
              "          google.colab.kernel.accessAllowed ? 'block' : 'none';\n",
              "\n",
              "        async function convertToInteractive(key) {\n",
              "          const element = document.querySelector('#df-c53e8b5b-db38-479c-b5df-7c763ccbda93');\n",
              "          const dataTable =\n",
              "            await google.colab.kernel.invokeFunction('convertToInteractive',\n",
              "                                                     [key], {});\n",
              "          if (!dataTable) return;\n",
              "\n",
              "          const docLinkHtml = 'Like what you see? Visit the ' +\n",
              "            '<a target=\"_blank\" href=https://colab.research.google.com/notebooks/data_table.ipynb>data table notebook</a>'\n",
              "            + ' to learn more about interactive tables.';\n",
              "          element.innerHTML = '';\n",
              "          dataTable['output_type'] = 'display_data';\n",
              "          await google.colab.output.renderOutput(dataTable, element);\n",
              "          const docLink = document.createElement('div');\n",
              "          docLink.innerHTML = docLinkHtml;\n",
              "          element.appendChild(docLink);\n",
              "        }\n",
              "      </script>\n",
              "    </div>\n",
              "  </div>\n",
              "  "
            ]
          },
          "metadata": {},
          "execution_count": 80
        }
      ]
    },
    {
      "cell_type": "markdown",
      "source": [
        "Приступим к обратному геокодированию через Яндекс. Завёл себе два ключа для API Яндекс.Карт:\n",
        "\n",
        "\n",
        "*   Геокодер: 4ad40cbd-83bc-4e15-935a-93ed4205a386\n",
        "*   Поиск по организации: e6ce00d5-f47e-4cf8-b5a1-fa052b4cd913\n",
        "\n",
        "Пропишем функцию для обращения по API и парсингу ответа:"
      ],
      "metadata": {
        "id": "7geXat0Rh5V3"
      }
    },
    {
      "cell_type": "code",
      "source": [
        "def fetch_coordinates(apikey, address):\n",
        "    base_url = \"https://geocode-maps.yandex.ru/1.x\"\n",
        "    response = requests.get(base_url, params={\n",
        "        \"geocode\": address,\n",
        "        \"apikey\": apikey,\n",
        "        \"format\": \"json\",\n",
        "    })\n",
        "    response.raise_for_status()\n",
        "    found_places = response.json()['response']['GeoObjectCollection']['featureMember']\n",
        "\n",
        "    if not found_places:\n",
        "        return None\n",
        "\n",
        "    most_relevant = found_places[0]\n",
        "    lon, lat = most_relevant['GeoObject']['Point']['pos'].split(\" \")\n",
        "    return lon, lat"
      ],
      "metadata": {
        "id": "cRySmFoYfNrv"
      },
      "execution_count": 81,
      "outputs": []
    },
    {
      "cell_type": "markdown",
      "source": [
        "Ответ приходит следующим образом:"
      ],
      "metadata": {
        "id": "ssTWcFD0iqsz"
      }
    },
    {
      "cell_type": "code",
      "source": [
        "apikey = '4ad40cbd-83bc-4e15-935a-93ed4205a386'  # ваш ключ\n",
        "\n",
        "coords = fetch_coordinates(apikey, \"Продукты, улица 1 Мая, Прикубанский округ, Краснодар, городской округ Краснодар, Краснодарский край, Южный федеральный округ, 350901, Россия\")\n",
        "print(coords)  \n",
        "\n",
        "# было 39.1046781\t45.0885102\n",
        "# стало ('39.104724', '45.088573')"
      ],
      "metadata": {
        "colab": {
          "base_uri": "https://localhost:8080/"
        },
        "id": "Ok_ijAY3gS6E",
        "outputId": "88aa0e57-cb70-4a2b-d3fa-c771e3572bd3"
      },
      "execution_count": 141,
      "outputs": [
        {
          "output_type": "stream",
          "name": "stdout",
          "text": [
            "('39.020202', '45.084081')\n"
          ]
        }
      ]
    },
    {
      "cell_type": "markdown",
      "source": [
        "Теперь обогатим наш Датафрейм координатами из Яндекса:"
      ],
      "metadata": {
        "id": "foCyrWRCiwC4"
      }
    },
    {
      "cell_type": "code",
      "source": [
        "df = df.rename(columns={'lon' : 'lon_osm','lat' : 'lat_osm'}) \n",
        "\n",
        "apikey = '4ad40cbd-83bc-4e15-935a-93ed4205a386' \n",
        "\n",
        "time_to_sleep_when_captcha = 1 \n",
        "\n",
        "lon_ya = []\n",
        "lat_ya = []\n",
        "for index, row in df[['adress','lon_osm','lat_osm']].iterrows(): \n",
        "    try: \n",
        "        coords = fetch_coordinates(apikey, row['adress']) \n",
        "        lon_ya.append(float(coords[0]))\n",
        "        lat_ya.append(float(coords[1]))\n",
        "    except: \n",
        "        sleep(time_to_sleep_when_captcha) \n",
        "        time_to_sleep_when_captcha += 0\n",
        "        lon_ya.append(float(row['lon_osm']))\n",
        "        lat_ya.append(float(row['lat_osm']))\n",
        "\n",
        "df[\"lon_ya\"] = lon_ya\n",
        "df[\"lat_ya\"] = lat_ya\n",
        "df = df[['adress','lon_ya','lat_ya']]\n",
        "df"
      ],
      "metadata": {
        "colab": {
          "base_uri": "https://localhost:8080/",
          "height": 424
        },
        "id": "ri7LZncbi291",
        "outputId": "c7ddddac-1712-4145-90ce-529cd4cf120f"
      },
      "execution_count": 188,
      "outputs": [
        {
          "output_type": "execute_result",
          "data": {
            "text/plain": [
              "                                                adress     lon_ya     lat_ya\n",
              "0    Агрокомплекс Выселковский, 1/1, Ейское шоссе, ...  38.998903  45.149798\n",
              "1    Магнат, проезд Репина, Прикубанский округ, Кра...  38.979706  45.074349\n",
              "2    22, проезд Репина, Прикубанский округ, Краснод...  38.980209  45.074082\n",
              "3    20, проезд Репина, Прикубанский округ, Краснод...  38.981601  45.074069\n",
              "4    Домашняя кухня, улица им. Соколова М.Е., микро...  38.986533  45.115332\n",
              "..                                                 ...        ...        ...\n",
              "423  Добро кубани, 25/1, улица Дунаевского, Микрора...  39.011233  45.088930\n",
              "424  Графиня вишенька, Московская улица, Прикубанск...  39.000906  45.073025\n",
              "425  Овощи Фрукты, 77/1, улица 40 лет Победы, Прику...  39.022008  45.055825\n",
              "426  22, улица имени Рахманинова С.В., Микрорайон и...  39.004266  45.086830\n",
              "427  1/5, Ангарская улица, Прикубанский округ, Крас...  39.002846  45.081853\n",
              "\n",
              "[428 rows x 3 columns]"
            ],
            "text/html": [
              "\n",
              "  <div id=\"df-77b51d69-92fd-42bb-b87c-7a215fe656aa\">\n",
              "    <div class=\"colab-df-container\">\n",
              "      <div>\n",
              "<style scoped>\n",
              "    .dataframe tbody tr th:only-of-type {\n",
              "        vertical-align: middle;\n",
              "    }\n",
              "\n",
              "    .dataframe tbody tr th {\n",
              "        vertical-align: top;\n",
              "    }\n",
              "\n",
              "    .dataframe thead th {\n",
              "        text-align: right;\n",
              "    }\n",
              "</style>\n",
              "<table border=\"1\" class=\"dataframe\">\n",
              "  <thead>\n",
              "    <tr style=\"text-align: right;\">\n",
              "      <th></th>\n",
              "      <th>adress</th>\n",
              "      <th>lon_ya</th>\n",
              "      <th>lat_ya</th>\n",
              "    </tr>\n",
              "  </thead>\n",
              "  <tbody>\n",
              "    <tr>\n",
              "      <th>0</th>\n",
              "      <td>Агрокомплекс Выселковский, 1/1, Ейское шоссе, ...</td>\n",
              "      <td>38.998903</td>\n",
              "      <td>45.149798</td>\n",
              "    </tr>\n",
              "    <tr>\n",
              "      <th>1</th>\n",
              "      <td>Магнат, проезд Репина, Прикубанский округ, Кра...</td>\n",
              "      <td>38.979706</td>\n",
              "      <td>45.074349</td>\n",
              "    </tr>\n",
              "    <tr>\n",
              "      <th>2</th>\n",
              "      <td>22, проезд Репина, Прикубанский округ, Краснод...</td>\n",
              "      <td>38.980209</td>\n",
              "      <td>45.074082</td>\n",
              "    </tr>\n",
              "    <tr>\n",
              "      <th>3</th>\n",
              "      <td>20, проезд Репина, Прикубанский округ, Краснод...</td>\n",
              "      <td>38.981601</td>\n",
              "      <td>45.074069</td>\n",
              "    </tr>\n",
              "    <tr>\n",
              "      <th>4</th>\n",
              "      <td>Домашняя кухня, улица им. Соколова М.Е., микро...</td>\n",
              "      <td>38.986533</td>\n",
              "      <td>45.115332</td>\n",
              "    </tr>\n",
              "    <tr>\n",
              "      <th>...</th>\n",
              "      <td>...</td>\n",
              "      <td>...</td>\n",
              "      <td>...</td>\n",
              "    </tr>\n",
              "    <tr>\n",
              "      <th>423</th>\n",
              "      <td>Добро кубани, 25/1, улица Дунаевского, Микрора...</td>\n",
              "      <td>39.011233</td>\n",
              "      <td>45.088930</td>\n",
              "    </tr>\n",
              "    <tr>\n",
              "      <th>424</th>\n",
              "      <td>Графиня вишенька, Московская улица, Прикубанск...</td>\n",
              "      <td>39.000906</td>\n",
              "      <td>45.073025</td>\n",
              "    </tr>\n",
              "    <tr>\n",
              "      <th>425</th>\n",
              "      <td>Овощи Фрукты, 77/1, улица 40 лет Победы, Прику...</td>\n",
              "      <td>39.022008</td>\n",
              "      <td>45.055825</td>\n",
              "    </tr>\n",
              "    <tr>\n",
              "      <th>426</th>\n",
              "      <td>22, улица имени Рахманинова С.В., Микрорайон и...</td>\n",
              "      <td>39.004266</td>\n",
              "      <td>45.086830</td>\n",
              "    </tr>\n",
              "    <tr>\n",
              "      <th>427</th>\n",
              "      <td>1/5, Ангарская улица, Прикубанский округ, Крас...</td>\n",
              "      <td>39.002846</td>\n",
              "      <td>45.081853</td>\n",
              "    </tr>\n",
              "  </tbody>\n",
              "</table>\n",
              "<p>428 rows × 3 columns</p>\n",
              "</div>\n",
              "      <button class=\"colab-df-convert\" onclick=\"convertToInteractive('df-77b51d69-92fd-42bb-b87c-7a215fe656aa')\"\n",
              "              title=\"Convert this dataframe to an interactive table.\"\n",
              "              style=\"display:none;\">\n",
              "        \n",
              "  <svg xmlns=\"http://www.w3.org/2000/svg\" height=\"24px\"viewBox=\"0 0 24 24\"\n",
              "       width=\"24px\">\n",
              "    <path d=\"M0 0h24v24H0V0z\" fill=\"none\"/>\n",
              "    <path d=\"M18.56 5.44l.94 2.06.94-2.06 2.06-.94-2.06-.94-.94-2.06-.94 2.06-2.06.94zm-11 1L8.5 8.5l.94-2.06 2.06-.94-2.06-.94L8.5 2.5l-.94 2.06-2.06.94zm10 10l.94 2.06.94-2.06 2.06-.94-2.06-.94-.94-2.06-.94 2.06-2.06.94z\"/><path d=\"M17.41 7.96l-1.37-1.37c-.4-.4-.92-.59-1.43-.59-.52 0-1.04.2-1.43.59L10.3 9.45l-7.72 7.72c-.78.78-.78 2.05 0 2.83L4 21.41c.39.39.9.59 1.41.59.51 0 1.02-.2 1.41-.59l7.78-7.78 2.81-2.81c.8-.78.8-2.07 0-2.86zM5.41 20L4 18.59l7.72-7.72 1.47 1.35L5.41 20z\"/>\n",
              "  </svg>\n",
              "      </button>\n",
              "      \n",
              "  <style>\n",
              "    .colab-df-container {\n",
              "      display:flex;\n",
              "      flex-wrap:wrap;\n",
              "      gap: 12px;\n",
              "    }\n",
              "\n",
              "    .colab-df-convert {\n",
              "      background-color: #E8F0FE;\n",
              "      border: none;\n",
              "      border-radius: 50%;\n",
              "      cursor: pointer;\n",
              "      display: none;\n",
              "      fill: #1967D2;\n",
              "      height: 32px;\n",
              "      padding: 0 0 0 0;\n",
              "      width: 32px;\n",
              "    }\n",
              "\n",
              "    .colab-df-convert:hover {\n",
              "      background-color: #E2EBFA;\n",
              "      box-shadow: 0px 1px 2px rgba(60, 64, 67, 0.3), 0px 1px 3px 1px rgba(60, 64, 67, 0.15);\n",
              "      fill: #174EA6;\n",
              "    }\n",
              "\n",
              "    [theme=dark] .colab-df-convert {\n",
              "      background-color: #3B4455;\n",
              "      fill: #D2E3FC;\n",
              "    }\n",
              "\n",
              "    [theme=dark] .colab-df-convert:hover {\n",
              "      background-color: #434B5C;\n",
              "      box-shadow: 0px 1px 3px 1px rgba(0, 0, 0, 0.15);\n",
              "      filter: drop-shadow(0px 1px 2px rgba(0, 0, 0, 0.3));\n",
              "      fill: #FFFFFF;\n",
              "    }\n",
              "  </style>\n",
              "\n",
              "      <script>\n",
              "        const buttonEl =\n",
              "          document.querySelector('#df-77b51d69-92fd-42bb-b87c-7a215fe656aa button.colab-df-convert');\n",
              "        buttonEl.style.display =\n",
              "          google.colab.kernel.accessAllowed ? 'block' : 'none';\n",
              "\n",
              "        async function convertToInteractive(key) {\n",
              "          const element = document.querySelector('#df-77b51d69-92fd-42bb-b87c-7a215fe656aa');\n",
              "          const dataTable =\n",
              "            await google.colab.kernel.invokeFunction('convertToInteractive',\n",
              "                                                     [key], {});\n",
              "          if (!dataTable) return;\n",
              "\n",
              "          const docLinkHtml = 'Like what you see? Visit the ' +\n",
              "            '<a target=\"_blank\" href=https://colab.research.google.com/notebooks/data_table.ipynb>data table notebook</a>'\n",
              "            + ' to learn more about interactive tables.';\n",
              "          element.innerHTML = '';\n",
              "          dataTable['output_type'] = 'display_data';\n",
              "          await google.colab.output.renderOutput(dataTable, element);\n",
              "          const docLink = document.createElement('div');\n",
              "          docLink.innerHTML = docLinkHtml;\n",
              "          element.appendChild(docLink);\n",
              "        }\n",
              "      </script>\n",
              "    </div>\n",
              "  </div>\n",
              "  "
            ]
          },
          "metadata": {},
          "execution_count": 188
        }
      ]
    },
    {
      "cell_type": "markdown",
      "source": [
        "Теперь всё готово. Осталось только преобразовать результат в shape-файл"
      ],
      "metadata": {
        "id": "esN98_cAGddP"
      }
    },
    {
      "cell_type": "code",
      "source": [
        "geometry = [Point(xy) for xy in zip(df['lon_ya'], df['lat_ya'])]\n",
        "gdf = gpd.GeoDataFrame(df, geometry=geometry)\n",
        "gdf.to_file(filename='krasnodar_shop.shp', encoding='cp1251', driver='ESRI Shapefile')"
      ],
      "metadata": {
        "id": "GiNebpxBHqqm"
      },
      "execution_count": 204,
      "outputs": []
    },
    {
      "cell_type": "markdown",
      "source": [
        "#Приложение\n",
        "Данное задание сделано в тестовом режиме. Для полноценного релиза в промышленную среду необходимы проработать следующие вопросы:\n",
        "\n",
        "\n",
        "\n",
        "1.   Корректная обрезка области (полигона). \n",
        "\n",
        "Погрешность достаточно небольшая, если работать с полигона OSM. Открытые источники сообщают, что она составляет около 2-3%\n",
        "2.   Собственная библиотека тегов в OSM\n",
        "\n",
        "Чтобы правильно класифицировать объекты нужна хорошая библиотека. Да, теги достаточно хорошо работают и модерируются в текущей. Но есть много недостающий объектов (например, мосты. Чтобы работать с ними, необходимо будет пересечь два слоя: дороги и реки/моря/озера/океаны; и посмотреть на их точки пересечения) и объекты могут достаточно активно менять свою классификацию (например, в моём случае спустя день после написания кода добавилось 2 продуктовых магазина) общаясь напрямую через форумы [Форум OSM](https://forum.openstreetmap.org/)\n",
        "\n",
        "3.    Доступные API\n",
        "\n",
        "Стоит отдельно отметить, что разные ресурсы имеют разную точность. Проделав ресерч по данному вопросу я наткнулся на исследование, которое четко показывает на ограниченной выборке, как отличаются данные с разных ресурсов ([Прямое и обратное геокодирование – тестирование популярных решений\n",
        "](https://habr.com/ru/amp/post/505500/))\n",
        "![рейтин геосервисов.png](data:image/png;base64,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)\n",
        "\n",
        "4.    Улучшенное геокодирование построек сельской местности\n",
        "\n",
        "Стоит также отметить, что при прямом и обратном кодировании построек сельской местности возникают проблемы. Не на каждом ресурсе можно найти однозначное соответствие, так как адрес у таких объектов может быть не полный. В таком случае необходимо лезть за более детальными мета-данными в OSM и проводить детальный парсинг (в данной работе не проводился)\n"
      ],
      "metadata": {
        "id": "y6hmNudpCuym"
      }
    }
  ]
}